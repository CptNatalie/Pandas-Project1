{
 "cells": [
  {
   "cell_type": "markdown",
   "id": "dc0318d6",
   "metadata": {},
   "source": [
    "## Part 1: Explore the Data\n",
    "\n",
    "Import the data and use Pandas to learn more about the dataset."
   ]
  },
  {
   "cell_type": "code",
   "execution_count": 158,
   "id": "e076f57f",
   "metadata": {},
   "outputs": [],
   "source": [
    "import pandas as pd\n",
    "\n",
    "df = pd.read_csv('client_dataset.csv')\n",
    "\n",
    "#df.head()"
   ]
  },
  {
   "cell_type": "code",
   "execution_count": 159,
   "id": "71b9bbd2",
   "metadata": {},
   "outputs": [
    {
     "data": {
      "text/plain": [
       "Index(['first', 'last', 'job', 'phone', 'email', 'client_id', 'order_id',\n",
       "       'order_date', 'order_week', 'order_year', 'item_id', 'category',\n",
       "       'subcategory', 'unit_price', 'unit_cost', 'unit_weight', 'qty',\n",
       "       'line_number'],\n",
       "      dtype='object')"
      ]
     },
     "execution_count": 159,
     "metadata": {},
     "output_type": "execute_result"
    }
   ],
   "source": [
    "# View the column names in the data\n",
    "df.columns\n"
   ]
  },
  {
   "cell_type": "code",
   "execution_count": 160,
   "metadata": {},
   "outputs": [
    {
     "data": {
      "text/plain": [
       "first           object\n",
       "last            object\n",
       "job             object\n",
       "phone           object\n",
       "email           object\n",
       "client_id        int64\n",
       "order_id         int64\n",
       "order_date      object\n",
       "order_week       int64\n",
       "order_year       int64\n",
       "item_id         object\n",
       "category        object\n",
       "subcategory     object\n",
       "unit_price     float64\n",
       "unit_cost      float64\n",
       "unit_weight    float64\n",
       "qty              int64\n",
       "line_number      int64\n",
       "dtype: object"
      ]
     },
     "execution_count": 160,
     "metadata": {},
     "output_type": "execute_result"
    }
   ],
   "source": [
    "df.dtypes"
   ]
  },
  {
   "cell_type": "code",
   "execution_count": 161,
   "id": "bc0f4172",
   "metadata": {},
   "outputs": [
    {
     "data": {
      "text/html": [
       "<div>\n",
       "<style scoped>\n",
       "    .dataframe tbody tr th:only-of-type {\n",
       "        vertical-align: middle;\n",
       "    }\n",
       "\n",
       "    .dataframe tbody tr th {\n",
       "        vertical-align: top;\n",
       "    }\n",
       "\n",
       "    .dataframe thead th {\n",
       "        text-align: right;\n",
       "    }\n",
       "</style>\n",
       "<table border=\"1\" class=\"dataframe\">\n",
       "  <thead>\n",
       "    <tr style=\"text-align: right;\">\n",
       "      <th></th>\n",
       "      <th>client_id</th>\n",
       "      <th>order_id</th>\n",
       "      <th>order_week</th>\n",
       "      <th>order_year</th>\n",
       "      <th>unit_price</th>\n",
       "      <th>unit_cost</th>\n",
       "      <th>unit_weight</th>\n",
       "      <th>qty</th>\n",
       "      <th>line_number</th>\n",
       "    </tr>\n",
       "  </thead>\n",
       "  <tbody>\n",
       "    <tr>\n",
       "      <th>count</th>\n",
       "      <td>54639.000000</td>\n",
       "      <td>5.463900e+04</td>\n",
       "      <td>54639.000000</td>\n",
       "      <td>54639.000000</td>\n",
       "      <td>54639.000000</td>\n",
       "      <td>54639.000000</td>\n",
       "      <td>54639.000000</td>\n",
       "      <td>5.463900e+04</td>\n",
       "      <td>54639.000000</td>\n",
       "    </tr>\n",
       "    <tr>\n",
       "      <th>mean</th>\n",
       "      <td>54837.869416</td>\n",
       "      <td>5.470190e+06</td>\n",
       "      <td>11.359139</td>\n",
       "      <td>2022.993064</td>\n",
       "      <td>136.267207</td>\n",
       "      <td>99.446073</td>\n",
       "      <td>5.004116</td>\n",
       "      <td>5.702646e+02</td>\n",
       "      <td>2.979667</td>\n",
       "    </tr>\n",
       "    <tr>\n",
       "      <th>std</th>\n",
       "      <td>25487.438231</td>\n",
       "      <td>2.599807e+06</td>\n",
       "      <td>7.023499</td>\n",
       "      <td>0.082997</td>\n",
       "      <td>183.873135</td>\n",
       "      <td>133.164267</td>\n",
       "      <td>5.326599</td>\n",
       "      <td>1.879552e+04</td>\n",
       "      <td>2.436320</td>\n",
       "    </tr>\n",
       "    <tr>\n",
       "      <th>min</th>\n",
       "      <td>10033.000000</td>\n",
       "      <td>1.000886e+06</td>\n",
       "      <td>1.000000</td>\n",
       "      <td>2022.000000</td>\n",
       "      <td>0.010000</td>\n",
       "      <td>0.010000</td>\n",
       "      <td>0.000000</td>\n",
       "      <td>0.000000e+00</td>\n",
       "      <td>0.000000</td>\n",
       "    </tr>\n",
       "    <tr>\n",
       "      <th>25%</th>\n",
       "      <td>33593.000000</td>\n",
       "      <td>3.196372e+06</td>\n",
       "      <td>6.000000</td>\n",
       "      <td>2023.000000</td>\n",
       "      <td>20.800000</td>\n",
       "      <td>14.840000</td>\n",
       "      <td>1.450000</td>\n",
       "      <td>3.200000e+01</td>\n",
       "      <td>1.000000</td>\n",
       "    </tr>\n",
       "    <tr>\n",
       "      <th>50%</th>\n",
       "      <td>53305.000000</td>\n",
       "      <td>5.496966e+06</td>\n",
       "      <td>11.000000</td>\n",
       "      <td>2023.000000</td>\n",
       "      <td>68.310000</td>\n",
       "      <td>49.890000</td>\n",
       "      <td>3.240000</td>\n",
       "      <td>6.800000e+01</td>\n",
       "      <td>3.000000</td>\n",
       "    </tr>\n",
       "    <tr>\n",
       "      <th>75%</th>\n",
       "      <td>78498.000000</td>\n",
       "      <td>7.733869e+06</td>\n",
       "      <td>17.000000</td>\n",
       "      <td>2023.000000</td>\n",
       "      <td>173.160000</td>\n",
       "      <td>125.570000</td>\n",
       "      <td>6.890000</td>\n",
       "      <td>1.700000e+02</td>\n",
       "      <td>5.000000</td>\n",
       "    </tr>\n",
       "    <tr>\n",
       "      <th>max</th>\n",
       "      <td>99984.000000</td>\n",
       "      <td>9.998480e+06</td>\n",
       "      <td>52.000000</td>\n",
       "      <td>2023.000000</td>\n",
       "      <td>1396.230000</td>\n",
       "      <td>846.270000</td>\n",
       "      <td>46.430000</td>\n",
       "      <td>3.958244e+06</td>\n",
       "      <td>9.000000</td>\n",
       "    </tr>\n",
       "  </tbody>\n",
       "</table>\n",
       "</div>"
      ],
      "text/plain": [
       "          client_id      order_id    order_week    order_year    unit_price  \\\n",
       "count  54639.000000  5.463900e+04  54639.000000  54639.000000  54639.000000   \n",
       "mean   54837.869416  5.470190e+06     11.359139   2022.993064    136.267207   \n",
       "std    25487.438231  2.599807e+06      7.023499      0.082997    183.873135   \n",
       "min    10033.000000  1.000886e+06      1.000000   2022.000000      0.010000   \n",
       "25%    33593.000000  3.196372e+06      6.000000   2023.000000     20.800000   \n",
       "50%    53305.000000  5.496966e+06     11.000000   2023.000000     68.310000   \n",
       "75%    78498.000000  7.733869e+06     17.000000   2023.000000    173.160000   \n",
       "max    99984.000000  9.998480e+06     52.000000   2023.000000   1396.230000   \n",
       "\n",
       "          unit_cost   unit_weight           qty   line_number  \n",
       "count  54639.000000  54639.000000  5.463900e+04  54639.000000  \n",
       "mean      99.446073      5.004116  5.702646e+02      2.979667  \n",
       "std      133.164267      5.326599  1.879552e+04      2.436320  \n",
       "min        0.010000      0.000000  0.000000e+00      0.000000  \n",
       "25%       14.840000      1.450000  3.200000e+01      1.000000  \n",
       "50%       49.890000      3.240000  6.800000e+01      3.000000  \n",
       "75%      125.570000      6.890000  1.700000e+02      5.000000  \n",
       "max      846.270000     46.430000  3.958244e+06      9.000000  "
      ]
     },
     "execution_count": 161,
     "metadata": {},
     "output_type": "execute_result"
    }
   ],
   "source": [
    "# Use the describe function to gather some basic statistics\n",
    "df.describe()\n"
   ]
  },
  {
   "cell_type": "code",
   "execution_count": 162,
   "id": "b24b53cc",
   "metadata": {},
   "outputs": [
    {
     "name": "stdout",
     "output_type": "stream",
     "text": [
      " Frame shape (54639, 18)\n"
     ]
    }
   ],
   "source": [
    "# Use this space to do any additional research\n",
    "# and familiarize yourself with the data.\n",
    "print(f\" Frame shape {df.shape}\")"
   ]
  },
  {
   "cell_type": "code",
   "execution_count": 163,
   "id": "551cb358",
   "metadata": {},
   "outputs": [
    {
     "name": "stdout",
     "output_type": "stream",
     "text": [
      "category\n",
      "consumables    23538\n",
      "furniture      11915\n",
      "software        8400\n",
      "Name: count, dtype: int64\n"
     ]
    }
   ],
   "source": [
    "# What three item categories had the most entries?\n",
    "top3 = df[\"category\"].value_counts()[:3]\n",
    "print(top3) "
   ]
  },
  {
   "cell_type": "code",
   "execution_count": 164,
   "id": "5f54e2cf",
   "metadata": {},
   "outputs": [
    {
     "data": {
      "text/plain": [
       "subcategory\n",
       "bathroom supplies    6424\n",
       "Name: count, dtype: int64"
      ]
     },
     "execution_count": 164,
     "metadata": {},
     "output_type": "execute_result"
    }
   ],
   "source": [
    "# For the category with the most entries,\n",
    "# which subcategory had the most entries?\n",
    "df.loc[df[\"category\"] == \"consumables\"][\"subcategory\"].value_counts()[:1]\n"
   ]
  },
  {
   "cell_type": "code",
   "execution_count": 165,
   "id": "2db94379",
   "metadata": {},
   "outputs": [
    {
     "data": {
      "text/plain": [
       "client_id\n",
       "33615    220\n",
       "66037    211\n",
       "46820    209\n",
       "38378    207\n",
       "24741    207\n",
       "Name: count, dtype: int64"
      ]
     },
     "execution_count": 165,
     "metadata": {},
     "output_type": "execute_result"
    }
   ],
   "source": [
    "# Which five clients had the most entries in the data?\n",
    "df[\"client_id\"].value_counts().head()\n"
   ]
  },
  {
   "cell_type": "code",
   "execution_count": 166,
   "id": "a6635601",
   "metadata": {},
   "outputs": [
    {
     "name": "stdout",
     "output_type": "stream",
     "text": [
      "[33615, 66037, 46820, 38378, 24741]\n"
     ]
    }
   ],
   "source": [
    "# Store the client ids of those top 5 clients in a list.\n",
    "top5clients = list(df[\"client_id\"].value_counts().keys()[:5])\n",
    "print(top5clients)"
   ]
  },
  {
   "cell_type": "code",
   "execution_count": 167,
   "id": "c88b8a3e",
   "metadata": {},
   "outputs": [
    {
     "name": "stdout",
     "output_type": "stream",
     "text": [
      "Client: 33615\n",
      "Quantity: 64313\n"
     ]
    }
   ],
   "source": [
    "# How many total units (the qty column) did the\n",
    "# client with the most entries order order?\n",
    "totalqty = df.loc[df[\"client_id\"] == top5clients[0]][\"qty\"].sum() \n",
    "print(f\"Client: {top5clients[0]}\")\n",
    "print(f\"Quantity: {totalqty}\")"
   ]
  },
  {
   "cell_type": "markdown",
   "id": "257fcd7d",
   "metadata": {},
   "source": [
    "## Part 2: Transform the Data\n",
    "Do we know that this client spent the more money than client 66037? If not, how would we find out? Transform the data using the steps below to prepare it for analysis."
   ]
  },
  {
   "cell_type": "code",
   "execution_count": 168,
   "id": "0c25c4a8",
   "metadata": {},
   "outputs": [
    {
     "data": {
      "text/html": [
       "<div>\n",
       "<style scoped>\n",
       "    .dataframe tbody tr th:only-of-type {\n",
       "        vertical-align: middle;\n",
       "    }\n",
       "\n",
       "    .dataframe tbody tr th {\n",
       "        vertical-align: top;\n",
       "    }\n",
       "\n",
       "    .dataframe thead th {\n",
       "        text-align: right;\n",
       "    }\n",
       "</style>\n",
       "<table border=\"1\" class=\"dataframe\">\n",
       "  <thead>\n",
       "    <tr style=\"text-align: right;\">\n",
       "      <th></th>\n",
       "      <th>unit_price</th>\n",
       "      <th>qty</th>\n",
       "      <th>subtotal</th>\n",
       "    </tr>\n",
       "  </thead>\n",
       "  <tbody>\n",
       "    <tr>\n",
       "      <th>0</th>\n",
       "      <td>1096.80</td>\n",
       "      <td>105</td>\n",
       "      <td>115164.00</td>\n",
       "    </tr>\n",
       "    <tr>\n",
       "      <th>1</th>\n",
       "      <td>24.95</td>\n",
       "      <td>21</td>\n",
       "      <td>523.95</td>\n",
       "    </tr>\n",
       "  </tbody>\n",
       "</table>\n",
       "</div>"
      ],
      "text/plain": [
       "   unit_price  qty   subtotal\n",
       "0     1096.80  105  115164.00\n",
       "1       24.95   21     523.95"
      ]
     },
     "execution_count": 168,
     "metadata": {},
     "output_type": "execute_result"
    }
   ],
   "source": [
    "# Create a column that calculates the \n",
    "# subtotal for each line using the unit_price\n",
    "# and the qty\n",
    "df[\"subtotal\"] = df[\"unit_price\"]*df[\"qty\"]\n",
    "df[[\"unit_price\", \"qty\", \"subtotal\"]].head(2)"
   ]
  },
  {
   "cell_type": "code",
   "execution_count": 169,
   "id": "ac9dafc8",
   "metadata": {},
   "outputs": [],
   "source": [
    "# Create a column for shipping price.\n",
    "# Assume a shipping price of $7 per pound\n",
    "# for orders over 50 pounds and $10 per\n",
    "# pound for items 50 pounds or under.\n",
    "def shipping_price(row):\n",
    "    orderweight = row[\"unit_weight\"]*row[\"qty\"]\n",
    "    if orderweight > 50:\n",
    "        price = 7*orderweight\n",
    "        return price \n",
    "    price = orderweight * 10\n",
    "    return price \n",
    "\n",
    "df[\"shipping_price\"]=df.apply(shipping_price, axis=1)"
   ]
  },
  {
   "cell_type": "code",
   "execution_count": 170,
   "id": "77f42c67",
   "metadata": {},
   "outputs": [],
   "source": [
    "# Create a column for the total price\n",
    "# using the subtotal and the shipping price\n",
    "# along with a sales tax of 9.25%\n",
    "def total_price(row):\n",
    "    totalcost = round((row[\"subtotal\"]+row[\"shipping_price\"])*1.0925,2)\n",
    "    return totalcost \n",
    "\n",
    "df[\"line_price\"] = df.apply(total_price, axis=1)"
   ]
  },
  {
   "cell_type": "code",
   "execution_count": 171,
   "id": "c82ad275",
   "metadata": {},
   "outputs": [],
   "source": [
    "# Create a column for the cost\n",
    "# of each line using unit cost, qty, and\n",
    "# shipping price (assume the shipping cost\n",
    "# is exactly what is charged to the client).\n",
    "def cost(row):\n",
    "    cost = (row[\"unit_cost\"]*row[\"qty\"]+row[\"shipping_price\"])\n",
    "    return cost \n",
    "\n",
    "df[\"line_cost\"] = df.apply(cost,axis=1)"
   ]
  },
  {
   "cell_type": "code",
   "execution_count": 172,
   "id": "e2389018",
   "metadata": {},
   "outputs": [],
   "source": [
    "# Create a column for the profit of\n",
    "# each line using line cost and line price\n",
    "def line_profit(row):\n",
    "    totalprofit = row[\"line_price\"]-row[\"line_cost\"]\n",
    "    return totalprofit \n",
    "\n",
    "df[\"line_profit\"] = df.apply(line_profit,axis=1)\n"
   ]
  },
  {
   "cell_type": "markdown",
   "id": "ef6f62b1",
   "metadata": {},
   "source": [
    "## Part 3: Confirm your work\n",
    "You have email receipts showing that the total prices for 3 orders. Confirm that your calculations match the receipts. Remember, each order has multiple lines.\n",
    "\n",
    "Order ID 2742071 had a total price of \\$152,811.89\n",
    "\n",
    "Order ID 2173913 had a total price of \\$162,388.71\n",
    "\n",
    "Order ID 6128929 had a total price of \\$923,441.25\n"
   ]
  },
  {
   "cell_type": "code",
   "execution_count": 173,
   "id": "c0e5d68e",
   "metadata": {},
   "outputs": [
    {
     "name": "stdout",
     "output_type": "stream",
     "text": [
      "Order ID 2742071 total is 152811.89\n",
      "Order ID 2173913 total is 162388.71\n",
      "Order ID 6128929 total is 923441.25\n"
     ]
    }
   ],
   "source": [
    "# Check your work using the totals above\n",
    "total1 = round(df.loc[df[\"order_id\"] == 2742071][\"line_price\"].sum(),2)\n",
    "print(f\"Order ID 2742071 total is {total1}\")\n",
    "\n",
    "total2 = round(df.loc[df[\"order_id\"] == 2173913][\"line_price\"].sum(),2)\n",
    "print(f\"Order ID 2173913 total is {total2}\")\n",
    "\n",
    "total3 = round(df.loc[df[\"order_id\"] == 6128929][\"line_price\"].sum(),2)\n",
    "print(f\"Order ID 6128929 total is {total3}\")"
   ]
  },
  {
   "cell_type": "markdown",
   "id": "b94d58ab",
   "metadata": {},
   "source": [
    "## Part 4: Summarize and Analyze\n",
    "Use the new columns with confirmed values to find the following information."
   ]
  },
  {
   "cell_type": "code",
   "execution_count": 176,
   "metadata": {},
   "outputs": [
    {
     "name": "stdout",
     "output_type": "stream",
     "text": [
      "Client 33615 spent $8377308.53.\n",
      "Client 66037 spent $10259514.8.\n",
      "Client 46820 spent $9743794.33.\n",
      "Client 38378 spent $12906550.87.\n",
      "Client 24741 spent $82268892.04.\n"
     ]
    }
   ],
   "source": [
    "for client in top5clients:\n",
    "    client_total = round(df.loc[df[\"client_id\"] == client][\"line_price\"].sum(),2)\n",
    "    print(f\"Client {client} spent ${client_total}.\")"
   ]
  },
  {
   "cell_type": "code",
   "execution_count": 180,
   "id": "7c005f34",
   "metadata": {},
   "outputs": [
    {
     "name": "stdout",
     "output_type": "stream",
     "text": [
      "33615: $8377308.53\n",
      "66037: $10259514.80\n",
      "46820: $9743794.33\n",
      "38378: $12906550.87\n",
      "24741: $82268892.04\n"
     ]
    }
   ],
   "source": [
    "# How much did each of the top 5 clients by quantity\n",
    "# spend? Check your work from Part 1 for client ids.\n",
    "def find_total_price(client_id):\n",
    "    return df.loc[df['client_id'] == client_id, 'line_price'].sum()\n",
    "\n",
    "IDnumber = [33615, 66037, 46820, 38378, 24741]\n",
    "\n",
    "for client_id in IDnumber:\n",
    "    total_spent = find_total_price(client_id)\n",
    "    print(f\"{client_id}: ${total_spent:.2f}\")"
   ]
  },
  {
   "cell_type": "code",
   "execution_count": 187,
   "id": "81b6e4d2",
   "metadata": {},
   "outputs": [
    {
     "data": {
      "text/html": [
       "<div>\n",
       "<style scoped>\n",
       "    .dataframe tbody tr th:only-of-type {\n",
       "        vertical-align: middle;\n",
       "    }\n",
       "\n",
       "    .dataframe tbody tr th {\n",
       "        vertical-align: top;\n",
       "    }\n",
       "\n",
       "    .dataframe thead th {\n",
       "        text-align: right;\n",
       "    }\n",
       "</style>\n",
       "<table border=\"1\" class=\"dataframe\">\n",
       "  <thead>\n",
       "    <tr style=\"text-align: right;\">\n",
       "      <th></th>\n",
       "      <th>client_id</th>\n",
       "      <th>qty</th>\n",
       "      <th>total_shipping</th>\n",
       "      <th>total_revenue</th>\n",
       "      <th>total_cost</th>\n",
       "      <th>total_profit</th>\n",
       "    </tr>\n",
       "  </thead>\n",
       "  <tbody>\n",
       "    <tr>\n",
       "      <th>4</th>\n",
       "      <td>24741</td>\n",
       "      <td>239862</td>\n",
       "      <td>5126448.37</td>\n",
       "      <td>82268892.04</td>\n",
       "      <td>45688899.71</td>\n",
       "      <td>36579992.33</td>\n",
       "    </tr>\n",
       "    <tr>\n",
       "      <th>3</th>\n",
       "      <td>38378</td>\n",
       "      <td>73667</td>\n",
       "      <td>3429455.40</td>\n",
       "      <td>12906550.87</td>\n",
       "      <td>9634720.98</td>\n",
       "      <td>3271829.89</td>\n",
       "    </tr>\n",
       "    <tr>\n",
       "      <th>1</th>\n",
       "      <td>66037</td>\n",
       "      <td>43018</td>\n",
       "      <td>1395151.85</td>\n",
       "      <td>10259514.80</td>\n",
       "      <td>7004482.98</td>\n",
       "      <td>3255031.82</td>\n",
       "    </tr>\n",
       "    <tr>\n",
       "      <th>2</th>\n",
       "      <td>46820</td>\n",
       "      <td>75768</td>\n",
       "      <td>1601448.84</td>\n",
       "      <td>9743794.33</td>\n",
       "      <td>7007191.64</td>\n",
       "      <td>2736602.69</td>\n",
       "    </tr>\n",
       "    <tr>\n",
       "      <th>0</th>\n",
       "      <td>33615</td>\n",
       "      <td>64313</td>\n",
       "      <td>1828984.89</td>\n",
       "      <td>8377308.53</td>\n",
       "      <td>6175313.91</td>\n",
       "      <td>2201994.62</td>\n",
       "    </tr>\n",
       "  </tbody>\n",
       "</table>\n",
       "</div>"
      ],
      "text/plain": [
       "   client_id     qty  total_shipping  total_revenue   total_cost  total_profit\n",
       "4      24741  239862      5126448.37    82268892.04  45688899.71   36579992.33\n",
       "3      38378   73667      3429455.40    12906550.87   9634720.98    3271829.89\n",
       "1      66037   43018      1395151.85    10259514.80   7004482.98    3255031.82\n",
       "2      46820   75768      1601448.84     9743794.33   7007191.64    2736602.69\n",
       "0      33615   64313      1828984.89     8377308.53   6175313.91    2201994.62"
      ]
     },
     "execution_count": 187,
     "metadata": {},
     "output_type": "execute_result"
    }
   ],
   "source": [
    "# Create a summary DataFrame showing the totals for the\n",
    "# top 5 clients with the following information:\n",
    "# total units purchased, total shipping price,\n",
    "# total revenue, and total profit. Sort by total profit.\n",
    "\n",
    "summary_data = []\n",
    "for client in top5clients:\n",
    "    clientQTY = df.loc[df[\"client_id\"] == client][\"qty\"].sum()\n",
    "    clientSHIP = round(df.loc[df[\"client_id\"] == client][\"shipping_price\"].sum(),2)\n",
    "    clientREV = round(df.loc[df[\"client_id\"] == client][\"line_price\"].sum(),2)\n",
    "    clientCOST = round(df.loc[df[\"client_id\"] == client][\"line_cost\"].sum(),2)\n",
    "    clientPROFIT = round(df.loc[df[\"client_id\"] == client][\"line_profit\"].sum(),2)\n",
    "    clientDATA = {\"client_id\": client,\n",
    "                  \"qty\": clientQTY,\n",
    "                  \"total_shipping\": clientSHIP,\n",
    "                  \"total_revenue\": clientREV,\n",
    "                  \"total_cost\": clientCOST,\n",
    "                  \"total_profit\": clientPROFIT}\n",
    "    summary_data.append(clientDATA)\n",
    "\n",
    "summary_df = pd.DataFrame(summary_data)\n",
    "summary_df = summary_df.sort_values(\"total_profit\", ascending = False)\n",
    "summary_df"
   ]
  },
  {
   "cell_type": "code",
   "execution_count": 282,
   "id": "7be02867",
   "metadata": {},
   "outputs": [
    {
     "data": {
      "text/html": [
       "<div>\n",
       "<style scoped>\n",
       "    .dataframe tbody tr th:only-of-type {\n",
       "        vertical-align: middle;\n",
       "    }\n",
       "\n",
       "    .dataframe tbody tr th {\n",
       "        vertical-align: top;\n",
       "    }\n",
       "\n",
       "    .dataframe thead th {\n",
       "        text-align: right;\n",
       "    }\n",
       "</style>\n",
       "<table border=\"1\" class=\"dataframe\">\n",
       "  <thead>\n",
       "    <tr style=\"text-align: right;\">\n",
       "      <th></th>\n",
       "      <th>Client</th>\n",
       "      <th>Quantity</th>\n",
       "      <th>Shipping</th>\n",
       "      <th>Revenue</th>\n",
       "      <th>Cost</th>\n",
       "      <th>Profit</th>\n",
       "    </tr>\n",
       "  </thead>\n",
       "  <tbody>\n",
       "    <tr>\n",
       "      <th>4</th>\n",
       "      <td>24741</td>\n",
       "      <td>239862</td>\n",
       "      <td>5126448.37</td>\n",
       "      <td>82268892.04</td>\n",
       "      <td>45688899.71</td>\n",
       "      <td>36579992.33</td>\n",
       "    </tr>\n",
       "    <tr>\n",
       "      <th>3</th>\n",
       "      <td>38378</td>\n",
       "      <td>73667</td>\n",
       "      <td>3429455.40</td>\n",
       "      <td>12906550.87</td>\n",
       "      <td>9634720.98</td>\n",
       "      <td>3271829.89</td>\n",
       "    </tr>\n",
       "    <tr>\n",
       "      <th>1</th>\n",
       "      <td>66037</td>\n",
       "      <td>43018</td>\n",
       "      <td>1395151.85</td>\n",
       "      <td>10259514.80</td>\n",
       "      <td>7004482.98</td>\n",
       "      <td>3255031.82</td>\n",
       "    </tr>\n",
       "    <tr>\n",
       "      <th>2</th>\n",
       "      <td>46820</td>\n",
       "      <td>75768</td>\n",
       "      <td>1601448.84</td>\n",
       "      <td>9743794.33</td>\n",
       "      <td>7007191.64</td>\n",
       "      <td>2736602.69</td>\n",
       "    </tr>\n",
       "    <tr>\n",
       "      <th>0</th>\n",
       "      <td>33615</td>\n",
       "      <td>64313</td>\n",
       "      <td>1828984.89</td>\n",
       "      <td>8377308.53</td>\n",
       "      <td>6175313.91</td>\n",
       "      <td>2201994.62</td>\n",
       "    </tr>\n",
       "  </tbody>\n",
       "</table>\n",
       "</div>"
      ],
      "text/plain": [
       "   Client  Quantity    Shipping      Revenue         Cost       Profit\n",
       "4   24741    239862  5126448.37  82268892.04  45688899.71  36579992.33\n",
       "3   38378     73667  3429455.40  12906550.87   9634720.98   3271829.89\n",
       "1   66037     43018  1395151.85  10259514.80   7004482.98   3255031.82\n",
       "2   46820     75768  1601448.84   9743794.33   7007191.64   2736602.69\n",
       "0   33615     64313  1828984.89   8377308.53   6175313.91   2201994.62"
      ]
     },
     "execution_count": 282,
     "metadata": {},
     "output_type": "execute_result"
    }
   ],
   "source": [
    "# Format the data and rename the columns\n",
    "# to names suitable for presentation.\n",
    "# Currency should be in millions of dollars.\n",
    "\n",
    "summary_df = summary_df.rename(columns={\"client_id\": \"Client\",\n",
    "                            \"qty\": \"Quantity\",\n",
    "                            \"total_shipping\":\"Shipping(mil)\",\n",
    "                            \"total_revenue\":\"Revenue(mil)\",\n",
    "                            \"total_cost\":\"Cost(mil)\",\n",
    "                            \"total_profit\":\"Profit(mil)\"})\n",
    "\n",
    "columns_to_scale = [\"Shipping(mil)\",\"Revenue(mil)\", \"Cost(mil)\", \"Profit(mil)\"]\n",
    "summary_df\n"
   ]
  },
  {
   "cell_type": "code",
   "execution_count": 295,
   "id": "8ead0986",
   "metadata": {},
   "outputs": [
    {
     "data": {
      "text/html": [
       "<div>\n",
       "<style scoped>\n",
       "    .dataframe tbody tr th:only-of-type {\n",
       "        vertical-align: middle;\n",
       "    }\n",
       "\n",
       "    .dataframe tbody tr th {\n",
       "        vertical-align: top;\n",
       "    }\n",
       "\n",
       "    .dataframe thead th {\n",
       "        text-align: right;\n",
       "    }\n",
       "</style>\n",
       "<table border=\"1\" class=\"dataframe\">\n",
       "  <thead>\n",
       "    <tr style=\"text-align: right;\">\n",
       "      <th></th>\n",
       "      <th>Client</th>\n",
       "      <th>Quantity</th>\n",
       "      <th>Shipping</th>\n",
       "      <th>Revenue</th>\n",
       "      <th>Cost</th>\n",
       "      <th>Profit</th>\n",
       "    </tr>\n",
       "  </thead>\n",
       "  <tbody>\n",
       "    <tr>\n",
       "      <th>4</th>\n",
       "      <td>24741</td>\n",
       "      <td>239862</td>\n",
       "      <td>5126448.37</td>\n",
       "      <td>82268892.04</td>\n",
       "      <td>45688899.71</td>\n",
       "      <td>36579992.33</td>\n",
       "    </tr>\n",
       "    <tr>\n",
       "      <th>3</th>\n",
       "      <td>38378</td>\n",
       "      <td>73667</td>\n",
       "      <td>3429455.40</td>\n",
       "      <td>12906550.87</td>\n",
       "      <td>9634720.98</td>\n",
       "      <td>3271829.89</td>\n",
       "    </tr>\n",
       "    <tr>\n",
       "      <th>1</th>\n",
       "      <td>66037</td>\n",
       "      <td>43018</td>\n",
       "      <td>1395151.85</td>\n",
       "      <td>10259514.80</td>\n",
       "      <td>7004482.98</td>\n",
       "      <td>3255031.82</td>\n",
       "    </tr>\n",
       "    <tr>\n",
       "      <th>2</th>\n",
       "      <td>46820</td>\n",
       "      <td>75768</td>\n",
       "      <td>1601448.84</td>\n",
       "      <td>9743794.33</td>\n",
       "      <td>7007191.64</td>\n",
       "      <td>2736602.69</td>\n",
       "    </tr>\n",
       "    <tr>\n",
       "      <th>0</th>\n",
       "      <td>33615</td>\n",
       "      <td>64313</td>\n",
       "      <td>1828984.89</td>\n",
       "      <td>8377308.53</td>\n",
       "      <td>6175313.91</td>\n",
       "      <td>2201994.62</td>\n",
       "    </tr>\n",
       "  </tbody>\n",
       "</table>\n",
       "</div>"
      ],
      "text/plain": [
       "   Client  Quantity    Shipping      Revenue         Cost       Profit\n",
       "4   24741    239862  5126448.37  82268892.04  45688899.71  36579992.33\n",
       "3   38378     73667  3429455.40  12906550.87   9634720.98   3271829.89\n",
       "1   66037     43018  1395151.85  10259514.80   7004482.98   3255031.82\n",
       "2   46820     75768  1601448.84   9743794.33   7007191.64   2736602.69\n",
       "0   33615     64313  1828984.89   8377308.53   6175313.91   2201994.62"
      ]
     },
     "execution_count": 295,
     "metadata": {},
     "output_type": "execute_result"
    }
   ],
   "source": [
    "# Sort the updated data by \"Total Profit\" form highest to lowest\n",
    "sorted_df = summary_df.sort_values(by=\"Profit\", ascending=False)\n",
    "sorted_df"
   ]
  },
  {
   "cell_type": "code",
   "execution_count": null,
   "metadata": {},
   "outputs": [],
   "source": [
    "##Write a brief 2-3 sentence summary of your findings:\n",
    "\n",
    "#The 'client_dataset.csv' is a 54639 row 18 column list outlining bulk purchases over time.\n",
    "#I transformed the data for analysis and made it more readable in a data frame, calculated shipping costs,\n",
    "#taxes, and profit from sale. Finally, renamed and organized data frame by highest cost for presentation. \n"
   ]
  }
 ],
 "metadata": {
  "kernelspec": {
   "display_name": "Python 3 (ipykernel)",
   "language": "python",
   "name": "python3"
  },
  "language_info": {
   "codemirror_mode": {
    "name": "ipython",
    "version": 3
   },
   "file_extension": ".py",
   "mimetype": "text/x-python",
   "name": "python",
   "nbconvert_exporter": "python",
   "pygments_lexer": "ipython3",
   "version": "3.12.0"
  }
 },
 "nbformat": 4,
 "nbformat_minor": 5
}
